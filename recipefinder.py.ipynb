{
 "cells": [
  {
   "cell_type": "code",
   "execution_count": 3,
   "id": "a115fcc3",
   "metadata": {},
   "outputs": [],
   "source": [
    "import pandas as pd"
   ]
  },
  {
   "cell_type": "code",
   "execution_count": null,
   "id": "f82c9228",
   "metadata": {},
   "outputs": [
    {
     "name": "stdout",
     "output_type": "stream",
     "text": [
      "\n",
      "Recipe Generator Menu:\n",
      "1. Search for a recipe\n",
      "2. Exit\n"
     ]
    }
   ],
   "source": [
    "def display_recipe(recipe_name, df):\n",
    "    recipe_data = df[df['Recipe Name'] == recipe_name]\n",
    "    if not recipe_data.empty:\n",
    "        recipe = recipe_data.iloc[0]\n",
    "        print(\"\\nRecipe:\\n\",recipe_name)\n",
    "        print(\"\\nIngredients:\\n\",recipe['Ingredients'])\n",
    "        print(\"\\nInstructions:\\n\",\"\\n\".join(sentence.strip() + '.' for sentence in recipe['Instructions'].split('. ') if sentence.strip()))\n",
    "        print(\"\\nCuisine:\\n\",recipe['Cuisine'])\n",
    "        print(\"\\nTotal Time Required:\\n\",recipe['Total Time Required'])\n",
    "        print(\"\\nNutritional Values:\\n\",recipe['Nutritional Values'])\n",
    "    \n",
    "    else:\n",
    "        print(f\"Recipe '{recipe_name}' not found.\")\n",
    "\n",
    "\n",
    "def main():\n",
    "    try:\n",
    "        # Load Excel file into a pandas DataFrame\n",
    "        df = pd.read_excel('Book1.xlsx')\n",
    "\n",
    "        while True:\n",
    "            print(\"\\nRecipe Generator Menu:\")\n",
    "            print(\"1. Search for a recipe\")\n",
    "            print(\"2. Exit\")\n",
    "\n",
    "            choice = input(\"Enter your choice: \")\n",
    "\n",
    "            if choice == '1':\n",
    "                ingredient = input(\"Enter an ingredient to search for: \")\n",
    "                # Find recipes containing the ingredient (case-insensitive)\n",
    "                matching_recipes = df[df['Ingredients'].str.contains(ingredient, case=False, na=False)]['Recipe Name'].tolist()\n",
    "\n",
    "                if matching_recipes:\n",
    "                    print(\"\\nMatching recipes:\")\n",
    "                    for i, recipe_name in enumerate(matching_recipes):\n",
    "                        print(f\"{i+1}. {recipe_name}\")\n",
    "                    \n",
    "                    recipe_choice = input(\"\\nEnter the number of the recipe to view (or press Enter to go back): \")\n",
    "\n",
    "                    try:\n",
    "                        recipe_index = int(recipe_choice) - 1\n",
    "                        if 0 <= recipe_index < len(matching_recipes):\n",
    "                            selected_recipe = matching_recipes[recipe_index]\n",
    "                            display_recipe(selected_recipe, df)\n",
    "                        else:\n",
    "                            print(\"Invalid recipe number.\")\n",
    "                    except ValueError:\n",
    "                        print(\"Invalid input. Returning to main menu.\")\n",
    "\n",
    "                else:\n",
    "                    print(f\"No recipes found containing '{ingredient}'.\")\n",
    "\n",
    "\n",
    "            elif choice == '2':\n",
    "                print(\"Exiting the program.\")\n",
    "                break\n",
    "            else:\n",
    "                print(\"Invalid choice. Please try again.\")\n",
    "\n",
    "    except FileNotFoundError:\n",
    "        print(\"Error: 'Book1.xlsx' not found. Please make sure the file exists in the correct location.\")\n",
    "    except Exception as e:\n",
    "        print(f\"An error occurred: {e}\")\n",
    "\n",
    "\n",
    "if __name__ == \"__main__\":\n",
    "    main()"
   ]
  },
  {
   "cell_type": "code",
   "execution_count": null,
   "id": "8617dcb7",
   "metadata": {},
   "outputs": [],
   "source": []
  }
 ],
 "metadata": {
  "kernelspec": {
   "display_name": "Python 3 (ipykernel)",
   "language": "python",
   "name": "python3"
  },
  "language_info": {
   "codemirror_mode": {
    "name": "ipython",
    "version": 3
   },
   "file_extension": ".py",
   "mimetype": "text/x-python",
   "name": "python",
   "nbconvert_exporter": "python",
   "pygments_lexer": "ipython3",
   "version": "3.11.7"
  }
 },
 "nbformat": 4,
 "nbformat_minor": 5
}
